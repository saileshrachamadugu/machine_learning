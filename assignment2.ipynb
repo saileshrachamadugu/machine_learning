{
 "cells": [
  {
   "cell_type": "code",
   "execution_count": 76,
   "metadata": {},
   "outputs": [],
   "source": [
    "#task 1(1.1)\n",
    "def my_reduce(lis):\n",
    "    x=0\n",
    "    for i in lis:\n",
    "        x=x+i\n",
    "    return x"
   ]
  },
  {
   "cell_type": "code",
   "execution_count": 75,
   "metadata": {},
   "outputs": [
    {
     "data": {
      "text/plain": [
       "6"
      ]
     },
     "execution_count": 75,
     "metadata": {},
     "output_type": "execute_result"
    }
   ],
   "source": [
    "my_reduce([1,2,3])"
   ]
  },
  {
   "cell_type": "code",
   "execution_count": 73,
   "metadata": {},
   "outputs": [
    {
     "name": "stdout",
     "output_type": "stream",
     "text": [
      "['a', 'c', 'a', 'd', 'i', 'g', 'i', 'l', 'd']\n",
      "----------------------------------------\n",
      "['x', 'xx', 'xxx', 'xxxx', 'y', 'yy', 'yyy', 'yyyy', 'z', 'zz', 'zzz', 'zzzz']\n",
      "------------------------------\n",
      "['x', 'y', 'z', 'xx', 'yy', 'zz', 'xxx', 'yyy', 'zzz', 'xxxx', 'yyyy', 'zzzz']\n",
      "--------------------------------\n",
      "[[2], [3], [4], [3], [4], [5], [4], [5], [6]]\n",
      "---------------------------------\n",
      "[(1, 1), (1, 2), (1, 3), (2, 1), (2, 2), (2, 3), (3, 1), (3, 2), (3, 3)]\n",
      "---------------------------------\n",
      "[[2, 3, 4], [3, 4, 5], [4, 5, 6]]\n"
     ]
    }
   ],
   "source": [
    "#task 1(2)\n",
    "a='acadigild'\n",
    "print([x for x in a])\n",
    "print(\"----------------------------------------\")\n",
    "lis=['x','y','z']\n",
    "b=[h*num  for h in lis for num in range(1,5) ]\n",
    "print(b)\n",
    "print(\"------------------------------\")\n",
    "print([h*num for num in range(1,5) for h in lis])\n",
    "\n",
    "print(\"--------------------------------\")\n",
    "a=[2,3,4]\n",
    "print([[x+num] for x in a for num in range(0,3)])\n",
    "print(\"---------------------------------\")\n",
    "d=[1,2,3]\n",
    "print([(d[i],d[j]) for i in range(0,len(d)) for j in range(0,len(d))])\n",
    "print(\"---------------------------------\")\n",
    "a=[2,3,4]\n",
    "print([[x+num for x in a] for num in range(0,3)])\n",
    "\n",
    "\n"
   ]
  },
  {
   "cell_type": "code",
   "execution_count": 77,
   "metadata": {},
   "outputs": [],
   "source": [
    "#task 1(3)\n",
    "def longest_word(lis):\n",
    "    a=[]\n",
    "    b={}\n",
    "    for i in lis:\n",
    "        b[i]=len(i)\n",
    "    c=sorted(b.values())[::-1][0]\n",
    "    for j,k in b.items():\n",
    "        if(k==c):\n",
    "            return j            "
   ]
  },
  {
   "cell_type": "code",
   "execution_count": 72,
   "metadata": {},
   "outputs": [
    {
     "data": {
      "text/plain": [
       "'saidef'"
      ]
     },
     "execution_count": 72,
     "metadata": {},
     "output_type": "execute_result"
    }
   ],
   "source": [
    "longest_word(['said','saidef','sa','as','a','s'])\n"
   ]
  },
  {
   "cell_type": "code",
   "execution_count": 1,
   "metadata": {},
   "outputs": [],
   "source": [
    "#task 2(1.1)\n",
    "def parent_class():\n",
    "    a=int(input(\"enter the first side\"))\n",
    "    b=int(input(\"enter the second side\"))\n",
    "    c=int(input(\"enter the third side\"))\n",
    "    return [a,b,c]\n",
    "def child_class(lis):\n",
    "    a=lis[0]\n",
    "    b=lis[1]\n",
    "    c=lis[2]\n",
    "    s=(a+b+c)/2\n",
    "    t=s*(s-a)*(s-b)*(s-c)\n",
    "    area=t**0.5\n",
    "    return area"
   ]
  },
  {
   "cell_type": "code",
   "execution_count": 2,
   "metadata": {
    "scrolled": true
   },
   "outputs": [
    {
     "name": "stdout",
     "output_type": "stream",
     "text": [
      "enter the first side2\n",
      "enter the second side3\n",
      "enter the third side4\n"
     ]
    },
    {
     "data": {
      "text/plain": [
       "2.9047375096555625"
      ]
     },
     "execution_count": 2,
     "metadata": {},
     "output_type": "execute_result"
    }
   ],
   "source": [
    "child_class(parent_class())"
   ]
  },
  {
   "cell_type": "code",
   "execution_count": 3,
   "metadata": {},
   "outputs": [],
   "source": [
    "#task 2(1.2)\n",
    "def longer_words(lis,n):\n",
    "    a=[]\n",
    "    for i in lis:\n",
    "        if(len(i)>n):\n",
    "            a.append(i)\n",
    "    return a           "
   ]
  },
  {
   "cell_type": "code",
   "execution_count": 4,
   "metadata": {},
   "outputs": [
    {
     "data": {
      "text/plain": [
       "['said', 'saidef']"
      ]
     },
     "execution_count": 4,
     "metadata": {},
     "output_type": "execute_result"
    }
   ],
   "source": [
    "longer_words(['said','saidef','sa','as','a','s'],2)"
   ]
  },
  {
   "cell_type": "code",
   "execution_count": 5,
   "metadata": {},
   "outputs": [],
   "source": [
    "#task 2(2.1)\n",
    "def length(lis):\n",
    "    a=[]\n",
    "    for i in lis:\n",
    "        a.append(len(i))\n",
    "    return a"
   ]
  },
  {
   "cell_type": "code",
   "execution_count": 6,
   "metadata": {
    "scrolled": true
   },
   "outputs": [
    {
     "name": "stdout",
     "output_type": "stream",
     "text": [
      "[4, 3, 3]\n"
     ]
    }
   ],
   "source": [
    "print(length(['asdf','def','ghi']))"
   ]
  },
  {
   "cell_type": "code",
   "execution_count": 7,
   "metadata": {},
   "outputs": [],
   "source": [
    "#task 2(2.2)\n",
    "def char(letter):\n",
    "    if(letter in['a','e','i','o','u']):\n",
    "        return True\n",
    "    return False"
   ]
  },
  {
   "cell_type": "code",
   "execution_count": 8,
   "metadata": {},
   "outputs": [
    {
     "name": "stdout",
     "output_type": "stream",
     "text": [
      "False\n",
      "True\n"
     ]
    }
   ],
   "source": [
    "print(char('r'))\n",
    "print(char('e'))"
   ]
  }
 ],
 "metadata": {
  "kernelspec": {
   "display_name": "Python 3",
   "language": "python",
   "name": "python3"
  },
  "language_info": {
   "codemirror_mode": {
    "name": "ipython",
    "version": 3
   },
   "file_extension": ".py",
   "mimetype": "text/x-python",
   "name": "python",
   "nbconvert_exporter": "python",
   "pygments_lexer": "ipython3",
   "version": "3.6.5"
  }
 },
 "nbformat": 4,
 "nbformat_minor": 2
}
